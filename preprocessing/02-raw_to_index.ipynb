{
 "cells": [
  {
   "cell_type": "markdown",
   "metadata": {
    "collapsed": true
   },
   "source": [
    "## 01 - text to index"
   ]
  },
  {
   "cell_type": "code",
   "execution_count": 1,
   "metadata": {},
   "outputs": [],
   "source": [
    "from tqdm import tqdm\n",
    "import ujson as json\n",
    "import nlp_vocab\n",
    "import pickle\n",
    "import file_util"
   ]
  },
  {
   "cell_type": "code",
   "execution_count": 2,
   "metadata": {},
   "outputs": [],
   "source": [
    "IS_LOWERCASE = True"
   ]
  },
  {
   "cell_type": "code",
   "execution_count": null,
   "metadata": {},
   "outputs": [],
   "source": []
  },
  {
   "cell_type": "code",
   "execution_count": 3,
   "metadata": {},
   "outputs": [],
   "source": [
    "with open('../data/raw/hotpot/hotpot_train_v1.1.json', 'rb') as f:\n",
    "    train = json.load(f)\n",
    "    \n",
    "with open('../data/raw/hotpot/hotpot_dev_distractor_v1.json', 'rb') as f:\n",
    "    dev_distractor = json.load(f)\n",
    "\n",
    "with open('../data/raw/hotpot/hotpot_dev_fullwiki_v1.json', 'rb') as f:\n",
    "    dev_wiki = json.load(f)"
   ]
  },
  {
   "cell_type": "code",
   "execution_count": null,
   "metadata": {},
   "outputs": [],
   "source": []
  },
  {
   "cell_type": "code",
   "execution_count": 5,
   "metadata": {},
   "outputs": [],
   "source": [
    "# nltk\n",
    "import nltk\n",
    "from nltk.tokenize import word_tokenize\n",
    "\n",
    "def sent2text(sent):\n",
    "    sent = word_tokenize(sent.strip())\n",
    "    if IS_LOWERCASE:\n",
    "        sent = [x.lower().strip() for x in sent]\n",
    "    else:\n",
    "        sent = [x.strip() for x in sent]\n",
    "    return sent"
   ]
  },
  {
   "cell_type": "code",
   "execution_count": null,
   "metadata": {},
   "outputs": [],
   "source": []
  },
  {
   "cell_type": "code",
   "execution_count": 6,
   "metadata": {},
   "outputs": [],
   "source": [
    "def raw2text(raw_data):\n",
    "    list_data = []\n",
    "\n",
    "    for data in tqdm(raw_data):\n",
    "        question = ''\n",
    "        sentence = []\n",
    "        label = [0] * 200\n",
    "        passage_index = []\n",
    "\n",
    "        question = data['question']\n",
    "        question = sent2text(question.strip())\n",
    "\n",
    "        for context in data['context']:\n",
    "\n",
    "            passage_index.append( len(sentence) )\n",
    "            \n",
    "            # check supporting facts\n",
    "            for sf in data['supporting_facts']:\n",
    "                if context[0] == sf[0]:\n",
    "                    if int(sf[1]) > 90:\n",
    "                        (\"\")\n",
    "                    else:\n",
    "                        label[ (len(sentence)+int(sf[1])) ] = 1\n",
    "                    \n",
    "            # add sentence from passage\n",
    "            sentence.extend( context[1] )\n",
    "\n",
    "        sentence = [sent2text(x) for x in sentence]\n",
    "\n",
    "        list_data.append( [question, sentence, passage_index, label] )\n",
    "        \n",
    "    return list_data"
   ]
  },
  {
   "cell_type": "code",
   "execution_count": null,
   "metadata": {},
   "outputs": [],
   "source": []
  },
  {
   "cell_type": "code",
   "execution_count": 7,
   "metadata": {},
   "outputs": [
    {
     "name": "stderr",
     "output_type": "stream",
     "text": [
      "100%|██████████| 7405/7405 [00:38<00:00, 192.29it/s]\n"
     ]
    }
   ],
   "source": [
    "dev_output = raw2text(dev_distractor)\n",
    "\n",
    "with open('../data/processed/hotpot/dev.pkl', 'wb') as f:\n",
    "    pickle.dump(dev_output, f)"
   ]
  },
  {
   "cell_type": "code",
   "execution_count": 8,
   "metadata": {},
   "outputs": [
    {
     "name": "stderr",
     "output_type": "stream",
     "text": [
      "100%|██████████| 90447/90447 [07:43<00:00, 195.33it/s]\n"
     ]
    }
   ],
   "source": [
    "train_output = raw2text(train)\n",
    "\n",
    "with open('../data/processed/hotpot/train.pkl', 'wb') as f:\n",
    "    pickle.dump(train_output, f)"
   ]
  },
  {
   "cell_type": "code",
   "execution_count": 9,
   "metadata": {},
   "outputs": [],
   "source": [
    "# dev_wiki_output = raw2text(dev_wiki)\n",
    "\n",
    "# with open('../data/processed/hotpot/dev-wiki.pkl', 'wb') as f:\n",
    "#     pickle.dump(dev_wiki_output, f)"
   ]
  },
  {
   "cell_type": "code",
   "execution_count": null,
   "metadata": {},
   "outputs": [],
   "source": []
  },
  {
   "cell_type": "code",
   "execution_count": null,
   "metadata": {},
   "outputs": [],
   "source": []
  },
  {
   "cell_type": "code",
   "execution_count": 10,
   "metadata": {},
   "outputs": [],
   "source": [
    "with open('../data/processed/hotpot/debug.pkl', 'wb') as f:\n",
    "    pickle.dump(dev_output[:200], f)"
   ]
  },
  {
   "cell_type": "code",
   "execution_count": null,
   "metadata": {},
   "outputs": [],
   "source": []
  },
  {
   "cell_type": "code",
   "execution_count": null,
   "metadata": {},
   "outputs": [],
   "source": []
  }
 ],
 "metadata": {
  "anaconda-cloud": {},
  "kernelspec": {
   "display_name": "Python [conda env:tf114_p37]",
   "language": "python",
   "name": "conda-env-tf114_p37-py"
  },
  "language_info": {
   "codemirror_mode": {
    "name": "ipython",
    "version": 3
   },
   "file_extension": ".py",
   "mimetype": "text/x-python",
   "name": "python",
   "nbconvert_exporter": "python",
   "pygments_lexer": "ipython3",
   "version": "3.7.4"
  }
 },
 "nbformat": 4,
 "nbformat_minor": 2
}
